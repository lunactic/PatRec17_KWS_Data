{
 "cells": [
  {
   "cell_type": "code",
   "execution_count": 26,
   "metadata": {},
   "outputs": [],
   "source": [
    "# Importation of modules\n",
    "import numpy as np\n",
    "import pickle\n",
    "import matplotlib.pyplot as plt\n",
    "import matplotlib.image as mpimg\n",
    "from skimage import filters\n",
    "from time import perf_counter\n",
    "import os\n",
    "from cropping import masking\n",
    "from pprint import pprint\n",
    "import time\n",
    "%matplotlib inline"
   ]
  },
  {
   "cell_type": "code",
   "execution_count": 27,
   "metadata": {},
   "outputs": [
    {
     "name": "stdout",
     "output_type": "stream",
     "text": [
      ">> Dictionary and sets created\n"
     ]
    }
   ],
   "source": [
    "# Create a dictionary location:value --> {'270-01-01': 's_2-s_7-s_0-s_pt',...}\n",
    "\n",
    "def get_transcription(transcription_file):\n",
    "    with open(transcription_file, 'r') as f:\n",
    "        names = {}\n",
    "        for line in f.readlines():\n",
    "            names[line.split(\" \")[0]] = line.split(\" \")[1].strip()\n",
    "    return names\n",
    "\n",
    "def get_list_of_text(file):\n",
    "    with open(file, 'r') as f:\n",
    "        nameOfText = []\n",
    "        for line in f.readlines():\n",
    "            nameOfText.append(line.strip())\n",
    "    return nameOfText\n",
    "\n",
    "transciptionOfAllWords = get_transcription(\"./../ground-truth/transcription.txt\")\n",
    "trainingFiles = get_list_of_text(\"./../task/train.txt\")\n",
    "validationFiles = get_list_of_text(\"./../task/valid.txt\")\n",
    "print(\">> Dictionary and sets created\")\n"
   ]
  },
  {
   "cell_type": "code",
   "execution_count": 6,
   "metadata": {},
   "outputs": [
    {
     "name": "stdout",
     "output_type": "stream",
     "text": [
      ">> Cropping picture 303  ...\n",
      " Picture 303 cropped in: 111s\n",
      ">> Cropping picture 277  ...\n",
      " Picture 277 cropped in: 78s\n",
      ">> Cropping picture 276  ...\n",
      " Picture 276 cropped in: 75s\n",
      ">> Cropping picture 302  ...\n",
      " Picture 302 cropped in: 97s\n",
      ">> Cropping picture 300  ...\n",
      " Picture 300 cropped in: 66s\n",
      ">> Cropping picture 274  ...\n",
      " Picture 274 cropped in: 101s\n",
      ">> Cropping picture 275  ...\n",
      " Picture 275 cropped in: 98s\n",
      ">> Cropping picture 301  ...\n",
      " Picture 301 cropped in: 103s\n",
      ">> Cropping picture 271  ...\n",
      " Picture 271 cropped in: 89s\n",
      ">> Cropping picture 270  ...\n",
      " Picture 270 cropped in: 64s\n",
      ">> Cropping picture 304  ...\n",
      " Picture 304 cropped in: 76s\n",
      ">> Cropping picture 272  ...\n",
      " Picture 272 cropped in: 80s\n",
      ">> Cropping picture 273  ...\n",
      " Picture 273 cropped in: 89s\n",
      ">> Cropping picture 278  ...\n",
      " Picture 278 cropped in: 63s\n",
      ">> Cropping picture 279  ...\n",
      " Picture 279 cropped in: 95s\n"
     ]
    }
   ],
   "source": [
    "# Just do that one time to generate the .pkl files -> If files are already available skip this cell\n",
    "def cropPictures():\n",
    "    allPictures = os.listdir(\"./../images\")\n",
    "\n",
    "    if not \"pkls\" in os.listdir(\".\"):\n",
    "        os.makedirs(\"./pkls\")\n",
    "\n",
    "    for picture in allPictures:\n",
    "    \n",
    "        print(\">> Cropping picture\", picture[:-4], \" ...\")\n",
    "        start_time = time.perf_counter()\n",
    "        numberOfPicture = picture[:-4]\n",
    "\n",
    "        # Get all split words\n",
    "        trimmed = masking(int(numberOfPicture))\n",
    "    \n",
    "        # Serialize the objects with pickle --> creation of all .pkl files\n",
    "        with open(os.path.join(\"./pkls\", numberOfPicture), 'wb') as f:\n",
    "            pickle.dump(trimmed, f, pickle.HIGHEST_PROTOCOL)\n",
    "        print(\" Picture %s cropped in: %ss\" % (picture[:-4], int(time.perf_counter()-start_time)))\n",
    "        \n",
    "cropPictures()"
   ]
  },
  {
   "cell_type": "code",
   "execution_count": 28,
   "metadata": {},
   "outputs": [],
   "source": [
    "def binarizeAndStoreInDict(typeOfSet):\n",
    "    allPkls = os.listdir(\"./pkls\")\n",
    "\n",
    "    #if not \"cropped\" in os.listdir(\".\"):\n",
    "        #os.makedirs(\"./cropped\")\n",
    "\n",
    "    # Dictionary containing the identifier and the values of all pixels of each word\n",
    "    allWordsAsNumpyMatrix={}\n",
    "    height=0\n",
    "    width=0\n",
    "    \n",
    "    # Get maximum width and maximum height of all words in order to create a picture of same size \n",
    "    # for all words of all pages\n",
    "    for text in allPkls:\n",
    "        with open('./pkls/'+text,'rb') as f:\n",
    "            allWords = pickle.load(f)\n",
    "            maxHeightPage = max([x.shape[0] for x in allWords.values()])\n",
    "            maxWidthPage = max([x.shape[1] for x in allWords.values()])\n",
    "            if maxHeightPage>height:\n",
    "                height= maxHeightPage\n",
    "            if maxWidthPage > width:\n",
    "                width= maxWidthPage\n",
    "\n",
    "    for text in allPkls:\n",
    "        if text not in typeOfSet:\n",
    "            continue\n",
    "        with open('./pkls/'+text,'rb') as f:\n",
    "            allWords = pickle.load(f)\n",
    "            \n",
    "            for wordpkl in allWords:\n",
    "                word = allWords[wordpkl].filled(255)\n",
    "            \n",
    "                # Only keep the dark parts\n",
    "                tresh = filters.threshold_otsu(word)\n",
    "                foo = word<tresh\n",
    "            \n",
    "                # Set every \"word\" as a matrix of same size.\n",
    "                target = np.zeros((height,width))\n",
    "                target[:foo.shape[0],:foo.shape[1]]=foo\n",
    "            \n",
    "                # return a dictionary '304-01-01':[[0,0,0,0,0,0,1,...,0,..], [], [0,1,0,0,..], []..]\n",
    "                allWordsAsNumpyMatrix[wordpkl]=target\n",
    "                \n",
    "    return allWordsAsNumpyMatrix\n",
    "allWords_training = binarizeAndStoreInDict(trainingFiles)\n",
    "allWords_validation = binarizeAndStoreInDict(validationFiles)"
   ]
  },
  {
   "cell_type": "code",
   "execution_count": 20,
   "metadata": {},
   "outputs": [
    {
     "name": "stdout",
     "output_type": "stream",
     "text": [
      "The autoreload extension is already loaded. To reload it, use:\n",
      "  %reload_ext autoreload\n"
     ]
    },
    {
     "ename": "KeyboardInterrupt",
     "evalue": "",
     "output_type": "error",
     "traceback": [
      "\u001b[0;31m---------------------------------------------------------------------------\u001b[0m",
      "\u001b[0;31mKeyboardInterrupt\u001b[0m                         Traceback (most recent call last)",
      "\u001b[0;32m<ipython-input-20-9f572791b6d5>\u001b[0m in \u001b[0;36m<module>\u001b[0;34m\u001b[0m\n\u001b[1;32m      6\u001b[0m \u001b[0;31m# --> {'304-01-01': [feature1, feature2, feature3, feature4, feature5]}\u001b[0m\u001b[0;34m\u001b[0m\u001b[0;34m\u001b[0m\u001b[0;34m\u001b[0m\u001b[0m\n\u001b[1;32m      7\u001b[0m \u001b[0;32mfrom\u001b[0m \u001b[0mfeatures\u001b[0m \u001b[0;32mimport\u001b[0m \u001b[0;34m*\u001b[0m\u001b[0;34m\u001b[0m\u001b[0;34m\u001b[0m\u001b[0m\n\u001b[0;32m----> 8\u001b[0;31m \u001b[0mallWords_training_features\u001b[0m \u001b[0;34m=\u001b[0m \u001b[0mcalculate_features_of_all_samples\u001b[0m\u001b[0;34m(\u001b[0m\u001b[0mallWords_training\u001b[0m\u001b[0;34m)\u001b[0m\u001b[0;34m\u001b[0m\u001b[0;34m\u001b[0m\u001b[0m\n\u001b[0m\u001b[1;32m      9\u001b[0m \u001b[0;34m\u001b[0m\u001b[0m\n\u001b[1;32m     10\u001b[0m \u001b[0;34m\u001b[0m\u001b[0m\n",
      "\u001b[0;32m~/Documents/Uni/FS19/Pattern Recognation/Exercise3/PatRec19_KWS_Data/code/features.py\u001b[0m in \u001b[0;36mcalculate_features_of_all_samples\u001b[0;34m(training_samples)\u001b[0m\n\u001b[1;32m     17\u001b[0m \u001b[0;32mdef\u001b[0m \u001b[0mcalculate_features_of_all_samples\u001b[0m\u001b[0;34m(\u001b[0m\u001b[0mtraining_samples\u001b[0m\u001b[0;34m)\u001b[0m\u001b[0;34m:\u001b[0m\u001b[0;34m\u001b[0m\u001b[0;34m\u001b[0m\u001b[0m\n\u001b[1;32m     18\u001b[0m \u001b[0;34m\u001b[0m\u001b[0m\n\u001b[0;32m---> 19\u001b[0;31m     \u001b[0;32mreturn\u001b[0m \u001b[0;34m{\u001b[0m\u001b[0mstr\u001b[0m\u001b[0;34m(\u001b[0m\u001b[0mkey\u001b[0m\u001b[0;34m)\u001b[0m\u001b[0;34m:\u001b[0m \u001b[0mcalculate_image_features\u001b[0m\u001b[0;34m(\u001b[0m\u001b[0mimage\u001b[0m\u001b[0;34m)\u001b[0m \u001b[0;32mfor\u001b[0m \u001b[0mkey\u001b[0m\u001b[0;34m,\u001b[0m \u001b[0mimage\u001b[0m \u001b[0;32min\u001b[0m \u001b[0mtraining_samples\u001b[0m\u001b[0;34m.\u001b[0m\u001b[0mitems\u001b[0m\u001b[0;34m(\u001b[0m\u001b[0;34m)\u001b[0m\u001b[0;34m}\u001b[0m\u001b[0;34m\u001b[0m\u001b[0;34m\u001b[0m\u001b[0m\n\u001b[0m\u001b[1;32m     20\u001b[0m \u001b[0;34m\u001b[0m\u001b[0m\n\u001b[1;32m     21\u001b[0m \u001b[0;34m\u001b[0m\u001b[0m\n",
      "\u001b[0;32m~/Documents/Uni/FS19/Pattern Recognation/Exercise3/PatRec19_KWS_Data/code/features.py\u001b[0m in \u001b[0;36m<dictcomp>\u001b[0;34m(.0)\u001b[0m\n\u001b[1;32m     17\u001b[0m \u001b[0;32mdef\u001b[0m \u001b[0mcalculate_features_of_all_samples\u001b[0m\u001b[0;34m(\u001b[0m\u001b[0mtraining_samples\u001b[0m\u001b[0;34m)\u001b[0m\u001b[0;34m:\u001b[0m\u001b[0;34m\u001b[0m\u001b[0;34m\u001b[0m\u001b[0m\n\u001b[1;32m     18\u001b[0m \u001b[0;34m\u001b[0m\u001b[0m\n\u001b[0;32m---> 19\u001b[0;31m     \u001b[0;32mreturn\u001b[0m \u001b[0;34m{\u001b[0m\u001b[0mstr\u001b[0m\u001b[0;34m(\u001b[0m\u001b[0mkey\u001b[0m\u001b[0;34m)\u001b[0m\u001b[0;34m:\u001b[0m \u001b[0mcalculate_image_features\u001b[0m\u001b[0;34m(\u001b[0m\u001b[0mimage\u001b[0m\u001b[0;34m)\u001b[0m \u001b[0;32mfor\u001b[0m \u001b[0mkey\u001b[0m\u001b[0;34m,\u001b[0m \u001b[0mimage\u001b[0m \u001b[0;32min\u001b[0m \u001b[0mtraining_samples\u001b[0m\u001b[0;34m.\u001b[0m\u001b[0mitems\u001b[0m\u001b[0;34m(\u001b[0m\u001b[0;34m)\u001b[0m\u001b[0;34m}\u001b[0m\u001b[0;34m\u001b[0m\u001b[0;34m\u001b[0m\u001b[0m\n\u001b[0m\u001b[1;32m     20\u001b[0m \u001b[0;34m\u001b[0m\u001b[0m\n\u001b[1;32m     21\u001b[0m \u001b[0;34m\u001b[0m\u001b[0m\n",
      "\u001b[0;32m~/Documents/Uni/FS19/Pattern Recognation/Exercise3/PatRec19_KWS_Data/code/features.py\u001b[0m in \u001b[0;36mcalculate_image_features\u001b[0;34m(image)\u001b[0m\n\u001b[1;32m     22\u001b[0m \u001b[0;32mdef\u001b[0m \u001b[0mcalculate_image_features\u001b[0m\u001b[0;34m(\u001b[0m\u001b[0mimage\u001b[0m\u001b[0;34m)\u001b[0m\u001b[0;34m:\u001b[0m\u001b[0;34m\u001b[0m\u001b[0;34m\u001b[0m\u001b[0m\n\u001b[1;32m     23\u001b[0m     \u001b[0mwindows\u001b[0m \u001b[0;34m=\u001b[0m \u001b[0;34m[\u001b[0m\u001b[0mimage\u001b[0m\u001b[0;34m[\u001b[0m\u001b[0;34m:\u001b[0m\u001b[0;34m,\u001b[0m \u001b[0mi\u001b[0m\u001b[0;34m]\u001b[0m \u001b[0;32mfor\u001b[0m \u001b[0mi\u001b[0m \u001b[0;32min\u001b[0m \u001b[0mrange\u001b[0m\u001b[0;34m(\u001b[0m\u001b[0mlen\u001b[0m\u001b[0;34m(\u001b[0m\u001b[0mimage\u001b[0m\u001b[0;34m[\u001b[0m\u001b[0;36m0\u001b[0m\u001b[0;34m]\u001b[0m\u001b[0;34m)\u001b[0m\u001b[0;34m)\u001b[0m\u001b[0;34m]\u001b[0m\u001b[0;34m\u001b[0m\u001b[0;34m\u001b[0m\u001b[0m\n\u001b[0;32m---> 24\u001b[0;31m     \u001b[0mfeatures\u001b[0m \u001b[0;34m=\u001b[0m \u001b[0;34m[\u001b[0m\u001b[0mcalculate_window_features\u001b[0m\u001b[0;34m(\u001b[0m\u001b[0mwindow\u001b[0m\u001b[0;34m)\u001b[0m \u001b[0;32mfor\u001b[0m \u001b[0mwindow\u001b[0m \u001b[0;32min\u001b[0m \u001b[0mwindows\u001b[0m\u001b[0;34m]\u001b[0m\u001b[0;34m\u001b[0m\u001b[0;34m\u001b[0m\u001b[0m\n\u001b[0m\u001b[1;32m     25\u001b[0m \u001b[0;34m\u001b[0m\u001b[0m\n\u001b[1;32m     26\u001b[0m     \u001b[0;32mreturn\u001b[0m \u001b[0mnormalize\u001b[0m\u001b[0;34m(\u001b[0m\u001b[0mnp\u001b[0m\u001b[0;34m.\u001b[0m\u001b[0masarray\u001b[0m\u001b[0;34m(\u001b[0m\u001b[0mfeatures\u001b[0m\u001b[0;34m)\u001b[0m\u001b[0;34m)\u001b[0m\u001b[0;34m\u001b[0m\u001b[0;34m\u001b[0m\u001b[0m\n",
      "\u001b[0;32m~/Documents/Uni/FS19/Pattern Recognation/Exercise3/PatRec19_KWS_Data/code/features.py\u001b[0m in \u001b[0;36m<listcomp>\u001b[0;34m(.0)\u001b[0m\n\u001b[1;32m     22\u001b[0m \u001b[0;32mdef\u001b[0m \u001b[0mcalculate_image_features\u001b[0m\u001b[0;34m(\u001b[0m\u001b[0mimage\u001b[0m\u001b[0;34m)\u001b[0m\u001b[0;34m:\u001b[0m\u001b[0;34m\u001b[0m\u001b[0;34m\u001b[0m\u001b[0m\n\u001b[1;32m     23\u001b[0m     \u001b[0mwindows\u001b[0m \u001b[0;34m=\u001b[0m \u001b[0;34m[\u001b[0m\u001b[0mimage\u001b[0m\u001b[0;34m[\u001b[0m\u001b[0;34m:\u001b[0m\u001b[0;34m,\u001b[0m \u001b[0mi\u001b[0m\u001b[0;34m]\u001b[0m \u001b[0;32mfor\u001b[0m \u001b[0mi\u001b[0m \u001b[0;32min\u001b[0m \u001b[0mrange\u001b[0m\u001b[0;34m(\u001b[0m\u001b[0mlen\u001b[0m\u001b[0;34m(\u001b[0m\u001b[0mimage\u001b[0m\u001b[0;34m[\u001b[0m\u001b[0;36m0\u001b[0m\u001b[0;34m]\u001b[0m\u001b[0;34m)\u001b[0m\u001b[0;34m)\u001b[0m\u001b[0;34m]\u001b[0m\u001b[0;34m\u001b[0m\u001b[0;34m\u001b[0m\u001b[0m\n\u001b[0;32m---> 24\u001b[0;31m     \u001b[0mfeatures\u001b[0m \u001b[0;34m=\u001b[0m \u001b[0;34m[\u001b[0m\u001b[0mcalculate_window_features\u001b[0m\u001b[0;34m(\u001b[0m\u001b[0mwindow\u001b[0m\u001b[0;34m)\u001b[0m \u001b[0;32mfor\u001b[0m \u001b[0mwindow\u001b[0m \u001b[0;32min\u001b[0m \u001b[0mwindows\u001b[0m\u001b[0;34m]\u001b[0m\u001b[0;34m\u001b[0m\u001b[0;34m\u001b[0m\u001b[0m\n\u001b[0m\u001b[1;32m     25\u001b[0m \u001b[0;34m\u001b[0m\u001b[0m\n\u001b[1;32m     26\u001b[0m     \u001b[0;32mreturn\u001b[0m \u001b[0mnormalize\u001b[0m\u001b[0;34m(\u001b[0m\u001b[0mnp\u001b[0m\u001b[0;34m.\u001b[0m\u001b[0masarray\u001b[0m\u001b[0;34m(\u001b[0m\u001b[0mfeatures\u001b[0m\u001b[0;34m)\u001b[0m\u001b[0;34m)\u001b[0m\u001b[0;34m\u001b[0m\u001b[0;34m\u001b[0m\u001b[0m\n",
      "\u001b[0;32m~/Documents/Uni/FS19/Pattern Recognation/Exercise3/PatRec19_KWS_Data/code/features.py\u001b[0m in \u001b[0;36mcalculate_window_features\u001b[0;34m(window)\u001b[0m\n\u001b[1;32m     32\u001b[0m     \"\"\"\n\u001b[1;32m     33\u001b[0m     \u001b[0mfeature_functions\u001b[0m \u001b[0;34m=\u001b[0m \u001b[0;34m(\u001b[0m\u001b[0mupper_contour\u001b[0m\u001b[0;34m,\u001b[0m \u001b[0mlower_contour\u001b[0m\u001b[0;34m,\u001b[0m \u001b[0mb_w_transitions\u001b[0m\u001b[0;34m,\u001b[0m \u001b[0mnumber_of_black_pixels\u001b[0m\u001b[0;34m,\u001b[0m \u001b[0mfraction_of_black_pixels\u001b[0m\u001b[0;34m)\u001b[0m\u001b[0;34m\u001b[0m\u001b[0;34m\u001b[0m\u001b[0m\n\u001b[0;32m---> 34\u001b[0;31m     \u001b[0;32mreturn\u001b[0m \u001b[0;34m[\u001b[0m\u001b[0mfeature_function\u001b[0m\u001b[0;34m(\u001b[0m\u001b[0mwindow\u001b[0m\u001b[0;34m)\u001b[0m \u001b[0;34m*\u001b[0m \u001b[0;36m100\u001b[0m \u001b[0;32mfor\u001b[0m \u001b[0mfeature_function\u001b[0m \u001b[0;32min\u001b[0m \u001b[0mfeature_functions\u001b[0m\u001b[0;34m]\u001b[0m\u001b[0;34m\u001b[0m\u001b[0;34m\u001b[0m\u001b[0m\n\u001b[0m\u001b[1;32m     35\u001b[0m \u001b[0;34m\u001b[0m\u001b[0m\n\u001b[1;32m     36\u001b[0m \u001b[0;34m\u001b[0m\u001b[0m\n",
      "\u001b[0;32m~/Documents/Uni/FS19/Pattern Recognation/Exercise3/PatRec19_KWS_Data/code/features.py\u001b[0m in \u001b[0;36m<listcomp>\u001b[0;34m(.0)\u001b[0m\n\u001b[1;32m     32\u001b[0m     \"\"\"\n\u001b[1;32m     33\u001b[0m     \u001b[0mfeature_functions\u001b[0m \u001b[0;34m=\u001b[0m \u001b[0;34m(\u001b[0m\u001b[0mupper_contour\u001b[0m\u001b[0;34m,\u001b[0m \u001b[0mlower_contour\u001b[0m\u001b[0;34m,\u001b[0m \u001b[0mb_w_transitions\u001b[0m\u001b[0;34m,\u001b[0m \u001b[0mnumber_of_black_pixels\u001b[0m\u001b[0;34m,\u001b[0m \u001b[0mfraction_of_black_pixels\u001b[0m\u001b[0;34m)\u001b[0m\u001b[0;34m\u001b[0m\u001b[0;34m\u001b[0m\u001b[0m\n\u001b[0;32m---> 34\u001b[0;31m     \u001b[0;32mreturn\u001b[0m \u001b[0;34m[\u001b[0m\u001b[0mfeature_function\u001b[0m\u001b[0;34m(\u001b[0m\u001b[0mwindow\u001b[0m\u001b[0;34m)\u001b[0m \u001b[0;34m*\u001b[0m \u001b[0;36m100\u001b[0m \u001b[0;32mfor\u001b[0m \u001b[0mfeature_function\u001b[0m \u001b[0;32min\u001b[0m \u001b[0mfeature_functions\u001b[0m\u001b[0;34m]\u001b[0m\u001b[0;34m\u001b[0m\u001b[0;34m\u001b[0m\u001b[0m\n\u001b[0m\u001b[1;32m     35\u001b[0m \u001b[0;34m\u001b[0m\u001b[0m\n\u001b[1;32m     36\u001b[0m \u001b[0;34m\u001b[0m\u001b[0m\n",
      "\u001b[0;32m~/Documents/Uni/FS19/Pattern Recognation/Exercise3/PatRec19_KWS_Data/code/features.py\u001b[0m in \u001b[0;36mnumber_of_black_pixels\u001b[0;34m(window)\u001b[0m\n\u001b[1;32m     71\u001b[0m     \u001b[0mnumber_of_black\u001b[0m \u001b[0;34m=\u001b[0m \u001b[0;36m0\u001b[0m\u001b[0;34m\u001b[0m\u001b[0;34m\u001b[0m\u001b[0m\n\u001b[1;32m     72\u001b[0m     \u001b[0;32mfor\u001b[0m \u001b[0mi\u001b[0m \u001b[0;32min\u001b[0m \u001b[0mrange\u001b[0m\u001b[0;34m(\u001b[0m\u001b[0mlen\u001b[0m\u001b[0;34m(\u001b[0m\u001b[0mwindow\u001b[0m\u001b[0;34m)\u001b[0m\u001b[0;34m)\u001b[0m\u001b[0;34m:\u001b[0m\u001b[0;34m\u001b[0m\u001b[0;34m\u001b[0m\u001b[0m\n\u001b[0;32m---> 73\u001b[0;31m         \u001b[0;32mif\u001b[0m \u001b[0mwindow\u001b[0m\u001b[0;34m[\u001b[0m\u001b[0mi\u001b[0m\u001b[0;34m]\u001b[0m \u001b[0;34m==\u001b[0m \u001b[0mBLACK\u001b[0m\u001b[0;34m:\u001b[0m\u001b[0;34m\u001b[0m\u001b[0;34m\u001b[0m\u001b[0m\n\u001b[0m\u001b[1;32m     74\u001b[0m             \u001b[0mnumber_of_black\u001b[0m \u001b[0;34m+=\u001b[0m \u001b[0;36m1\u001b[0m\u001b[0;34m\u001b[0m\u001b[0;34m\u001b[0m\u001b[0m\n\u001b[1;32m     75\u001b[0m     \u001b[0;32mreturn\u001b[0m \u001b[0mnumber_of_black\u001b[0m\u001b[0;34m/\u001b[0m\u001b[0mlen\u001b[0m\u001b[0;34m(\u001b[0m\u001b[0mwindow\u001b[0m\u001b[0;34m)\u001b[0m\u001b[0;34m\u001b[0m\u001b[0;34m\u001b[0m\u001b[0m\n",
      "\u001b[0;31mKeyboardInterrupt\u001b[0m: "
     ]
    }
   ],
   "source": [
    "# JUST A TEST TO SEE IF ARRAYS OF FEATURES ARE WELL CREATED\n",
    "%load_ext autoreload\n",
    "%autoreload 2\n",
    "%reload_ext autoreload\n",
    "# Transform each picture of word into an array of features and store it in a dictionary identifier: allfeatures\n",
    "# --> {'304-01-01': [feature1, feature2, feature3, feature4, feature5]}\n",
    "from features import *\n",
    "allWords_training_features = calculate_features_of_all_samples(allWords_training)\n",
    "\n",
    "\n",
    "\n"
   ]
  },
  {
   "cell_type": "code",
   "execution_count": 29,
   "metadata": {
    "scrolled": false
   },
   "outputs": [
    {
     "name": "stdout",
     "output_type": "stream",
     "text": [
      "13871.362575372024\n",
      "0.0\n",
      "13s\n"
     ]
    }
   ],
   "source": [
    "#Just a test to compare the distance of an image with itself (should be equal to 0) and an image with another one\n",
    "from dtw import *\n",
    "\n",
    "start_time = time.perf_counter()\n",
    "score1 = dtw(allWords_training_features['270-09-06'],allWords_training_features['270-05-07'])\n",
    "score2 = dtw(allWords_training_features['270-09-06'],allWords_training_features['270-09-06'])\n",
    "print(score1)\n",
    "print(score2)\n",
    "print(\"%ss\" % (int(time.perf_counter()-start_time)))"
   ]
  },
  {
   "cell_type": "code",
   "execution_count": 30,
   "metadata": {
    "scrolled": true
   },
   "outputs": [
    {
     "name": "stdout",
     "output_type": "stream",
     "text": [
      "13854.100135244295\n",
      "0.0\n",
      "7s\n"
     ]
    }
   ],
   "source": [
    "#Just a test to compare the distance of an image with itself (should be equal to 0) and an image with another one\n",
    "from dtw import *\n",
    "\n",
    "start_time = time.perf_counter()\n",
    "score1 = fastdtw(allWords_training_features['270-09-06'],allWords_training_features['270-05-07'])\n",
    "score2 = fastdtw(allWords_training_features['270-09-06'],allWords_training_features['270-09-06'])\n",
    "print(score1)\n",
    "print(score2)\n",
    "print(\"%ss\" % (int(time.perf_counter()-start_time)))"
   ]
  },
  {
   "cell_type": "code",
   "execution_count": 57,
   "metadata": {},
   "outputs": [
    {
     "name": "stdout",
     "output_type": "stream",
     "text": [
      "o-f:\n",
      "6927.96655805848,270-08-03, Match: True, Precision: 1.0, Recall: 0.09090909090909091;\n",
      "7203.095685180449,270-07-07, Match: True, Precision: 1.0, Recall: 0.18181818181818182;\n",
      "7732.521188523189,270-07-01, Match: True, Precision: 1.0, Recall: 0.2727272727272727;\n",
      "8911.414908689123,270-25-03, Match: True, Precision: 1.0, Recall: 0.36363636363636365;\n",
      "9503.406374721944,270-19-09, Match: True, Precision: 1.0, Recall: 0.45454545454545453;\n",
      "9790.48481795791,270-21-06, Match: True, Precision: 1.0, Recall: 0.5454545454545454;\n",
      "9983.328247981437,270-23-05, Match: True, Precision: 1.0, Recall: 0.6363636363636364;\n",
      "10864.572440214686,270-05-04, Match: True, Precision: 1.0, Recall: 0.7272727272727273;\n",
      "10916.536344795277,270-10-02, Match: True, Precision: 1.0, Recall: 0.8181818181818182;\n",
      "10959.142804449088,270-23-03, Match: False, Precision: 0.9, Recall: 0.8181818181818182;\n",
      "10984.483872134115,270-33-03, Match: False, Precision: 0.8181818181818182, Recall: 0.8181818181818182;\n",
      "12778.352196976335,270-05-09, Match: False, Precision: 0.75, Recall: 0.8181818181818182;\n",
      "12823.653923244268,270-19-08, Match: False, Precision: 0.6923076923076923, Recall: 0.8181818181818182;\n",
      "12952.771327872604,270-28-03, Match: False, Precision: 0.6428571428571429, Recall: 0.8181818181818182;\n",
      "13828.227213560911,270-24-08, Match: False, Precision: 0.6, Recall: 0.8181818181818182;\n",
      "13906.9404275333,270-08-06, Match: False, Precision: 0.5625, Recall: 0.8181818181818182;\n",
      "13968.300836252154,270-25-06, Match: False, Precision: 0.5294117647058824, Recall: 0.8181818181818182;\n",
      "14001.515278362302,270-07-05, Match: False, Precision: 0.5, Recall: 0.8181818181818182;\n",
      "14332.273638224025,270-26-07, Match: False, Precision: 0.47368421052631576, Recall: 0.8181818181818182;\n",
      "14396.697958605515,270-20-07, Match: False, Precision: 0.45, Recall: 0.8181818181818182;\n"
     ]
    }
   ],
   "source": [
    "## IS TOO SLOW FOR NOW... NOT TESTED\n",
    "import operator\n",
    "\n",
    "def kNN_DTW(allWords_training, allWords_test, k, transcriptionOfAllWords):\n",
    "# Returns the k nearest neighbors through DTW distance algorithm\n",
    "    allWords_training_features = calculate_features_of_all_samples(allWords_training)\n",
    "    allWords_test_features = calculate_features_of_all_samples(allWords_test)\n",
    "    \n",
    "    for test_image in allWords_test_features.keys():\n",
    "        # compute distance between each training instance and the test instance\n",
    "        # and store tuple of result and corresponding training instance\n",
    "        currLabel = str(transciptionOfAllWords[test_image])\n",
    "        labelOccureInTraing = 0\n",
    "        distances = []\n",
    "        for training_image in allWords_training_features.keys():\n",
    "            dist = fastdtw(allWords_test_features[test_image], allWords_training_features[training_image])\n",
    "            distances.append((transciptionOfAllWords[training_image], dist, training_image))\n",
    "            if(currLabel == transciptionOfAllWords[training_image]):\n",
    "                labelOccureInTraing += 1\n",
    "                \n",
    "        # sort list of tuples of distances in ascending order \n",
    "        # regarding the second item of the tuples, i.e. the distances\n",
    "        distances.sort(key=operator.itemgetter(1))\n",
    "        kNNforMajority = []\n",
    "        locationOfWords = []\n",
    "        #for x in range(k):\n",
    "        #   kNNforMajority.append(distances[x][0]) \n",
    "        #   locationOfWords.append(distances[x][2])\n",
    "        # return the k first training instances (the k most similar)\n",
    "        #return majority(kNNforMajority), locationOfWords#\n",
    "        print(currLabel + \":\")\n",
    "        arrPrecRec = eval(distances,k,currLabel,labelOccureInTraing)\n",
    "        for x in range(k):\n",
    "            print(str(distances[x][1]) + \",\" + str(distances[x][2])+ \", Match: \" + str((distances[x][0]) == currLabel) + \", Precision: \" + str(arrPrecRec[x][0]) + \", Recall: \" + str(arrPrecRec[x][1]) +  \";\" )\n",
    "        \n",
    "            \n",
    "def eval(orderedDis,k,label,labelOccureInTraing):\n",
    "    count = 0\n",
    "    tp = 0\n",
    "    arrPrecRec = []\n",
    "    #theoretically before the first dataset the precision is 1 and recall is 0\n",
    "    #arrPrecRec.append([1,0])\n",
    "    for x in range(k):\n",
    "        count += 1\n",
    "        if label == orderedDis[x][0]:\n",
    "            tp += 1\n",
    "            \n",
    "        #[Precision, Recall]\n",
    "        arrPrecRec.append([tp/count,tp/labelOccureInTraing])\n",
    "    return arrPrecRec\n",
    "        \n",
    "        \n",
    "        \n",
    "def majority(kNN):\n",
    "# Returns the label occuring the most among the k nearest neighbors\n",
    "    # classVotes is a key:value list\n",
    "    print(kNN)\n",
    "    classVotes = {}\n",
    "    for x in range(len(kNN)):\n",
    "        # extract the label of training instance \n",
    "        response = kNN[x][0]\n",
    "        # if the label appears in list of classVotes \n",
    "        if response in classVotes:\n",
    "        # add vote at to label key\n",
    "            classVotes[response] += 1  \n",
    "        else:\n",
    "            classVotes[response] = 1\n",
    "    # sort the classVotes according to the number of votes in a descending order\n",
    "    sortedVotes = sorted(classVotes.items(), key=operator.itemgetter(1), reverse=True)\n",
    "    return sortedVotes[0][0]\n",
    "\n",
    "# test with one word\n",
    "kNN_DTW(allWords_training, {'304-32-03':allWords_validation['304-32-03']},20, transciptionOfAllWords)\n",
    "\n"
   ]
  },
  {
   "cell_type": "code",
   "execution_count": null,
   "metadata": {},
   "outputs": [],
   "source": []
  }
 ],
 "metadata": {
  "kernelspec": {
   "display_name": "Python 3",
   "language": "python",
   "name": "python3"
  },
  "language_info": {
   "codemirror_mode": {
    "name": "ipython",
    "version": 3
   },
   "file_extension": ".py",
   "mimetype": "text/x-python",
   "name": "python",
   "nbconvert_exporter": "python",
   "pygments_lexer": "ipython3",
   "version": "3.7.2"
  }
 },
 "nbformat": 4,
 "nbformat_minor": 2
}
